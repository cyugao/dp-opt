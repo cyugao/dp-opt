{
 "cells": [
  {
   "cell_type": "code",
   "execution_count": 1,
   "id": "448c9528-ed07-426a-a0d9-069f08844a09",
   "metadata": {},
   "outputs": [],
   "source": [
    "import pandas as pd"
   ]
  },
  {
   "cell_type": "code",
   "execution_count": 2,
   "id": "eec13c75-5475-4297-84fd-2b97575a52a7",
   "metadata": {},
   "outputs": [
    {
     "name": "stdout",
     "output_type": "stream",
     "text": [
      "/mnt/home/cgao/workspace/dp-opt/results\n"
     ]
    }
   ],
   "source": [
    "cd results"
   ]
  },
  {
   "cell_type": "code",
   "execution_count": 3,
   "id": "2d4ce501",
   "metadata": {},
   "outputs": [],
   "source": [
    "# get all files in the current directory\n",
    "import os\n",
    "files = os.listdir()\n",
    "\n",
    "# get last modified file in current directory\n",
    "last_modified = max(files, key=os.path.getmtime)\n",
    "df = pd.read_csv(last_modified)"
   ]
  },
  {
   "cell_type": "code",
   "execution_count": 13,
   "id": "e67e9434-bda6-449c-a6de-89e459a2009f",
   "metadata": {},
   "outputs": [
    {
     "data": {
      "text/plain": [
       "'eps_g=0.0077_0715-112744.csv'"
      ]
     },
     "execution_count": 14,
     "metadata": {},
     "output_type": "execute_result"
    }
   ],
   "source": []
  },
  {
   "cell_type": "code",
   "execution_count": 4,
   "id": "323abe5f-ecf8-467c-98f0-8ac9c3700f84",
   "metadata": {},
   "outputs": [
    {
     "data": {
      "text/html": [
       "\n",
       "            <div id=\"PEjLru\"></div>\n",
       "            <script type=\"text/javascript\" data-lets-plot-script=\"library\">\n",
       "                if(!window.letsPlotCallQueue) {\n",
       "                    window.letsPlotCallQueue = [];\n",
       "                }; \n",
       "                window.letsPlotCall = function(f) {\n",
       "                    window.letsPlotCallQueue.push(f);\n",
       "                };\n",
       "                (function() {\n",
       "                    var script = document.createElement(\"script\");\n",
       "                    script.type = \"text/javascript\";\n",
       "                    script.src = \"https://cdn.jsdelivr.net/gh/JetBrains/lets-plot@v2.4.0/js-package/distr/lets-plot.min.js\";\n",
       "                    script.onload = function() {\n",
       "                        window.letsPlotCall = function(f) {f();};\n",
       "                        window.letsPlotCallQueue.forEach(function(f) {f();});\n",
       "                        window.letsPlotCallQueue = [];\n",
       "                        \n",
       "                    };\n",
       "                    script.onerror = function(event) {\n",
       "                        window.letsPlotCall = function(f) {};    // noop\n",
       "                        window.letsPlotCallQueue = [];\n",
       "                        var div = document.createElement(\"div\");\n",
       "                        div.style.color = 'darkred';\n",
       "                        div.textContent = 'Error loading Lets-Plot JS';\n",
       "                        document.getElementById(\"PEjLru\").appendChild(div);\n",
       "                    };\n",
       "                    var e = document.getElementById(\"PEjLru\");\n",
       "                    e.appendChild(script);\n",
       "                })()\n",
       "            </script>\n",
       "            "
      ]
     },
     "metadata": {},
     "output_type": "display_data"
    }
   ],
   "source": [
    "from lets_plot import *\n",
    "LetsPlot.setup_html()"
   ]
  },
  {
   "cell_type": "code",
   "execution_count": 5,
   "id": "67e2efec-bb31-4168-aac5-58ff1b2b30d6",
   "metadata": {},
   "outputs": [],
   "source": [
    "def plot_line_feature(df, feat):\n",
    "    return ggplot(df, aes(x=\"eps\", y=feat, color=\"method\")) + geom_line() + geom_point(aes(shape=\"method\"))"
   ]
  },
  {
   "cell_type": "code",
   "execution_count": 6,
   "id": "c59f45db-a7de-4b8d-97d8-67c0652c9a87",
   "metadata": {},
   "outputs": [
    {
     "data": {
      "text/plain": [
       "Index(['method', 'eps', 'rho', 'loss', 'grad_norm', 'runtime', 'rho_left',\n",
       "       'num_iter'],\n",
       "      dtype='object')"
      ]
     },
     "execution_count": 6,
     "metadata": {},
     "output_type": "execute_result"
    }
   ],
   "source": [
    "df.columns"
   ]
  },
  {
   "cell_type": "code",
   "execution_count": 7,
   "id": "2409aded-7744-4ee1-87b7-199dfa3749c4",
   "metadata": {},
   "outputs": [
    {
     "data": {
      "text/html": [
       "   <div id=\"EiMMur\"></div>\n",
       "   <script type=\"text/javascript\" data-lets-plot-script=\"plot\">\n",
       "       (function() {\n",
       "           var plotSpec={\n",
       "\"data\":{\n",
       "\"method\":[\"DPOPT-LS\",\"DPOPT\",\"DPOPT-LS\",\"DPOPT\",\"DPOPT-LS\",\"DPOPT\",\"DPOPT-LS\",\"DPOPT\",\"DPOPT-LS\",\"DPOPT\",\"DPOPT-LS\",\"DPOPT\",\"DPOPT-LS\",\"DPOPT\",\"DPOPT-LS\",\"DPOPT\",\"DPOPT-LS\",\"DPOPT\",\"DPOPT-LS\",\"DPOPT\",\"DPTR\",\"DPTR\",\"DPTR\",\"DPTR\",\"DPTR\",\"DPTR\",\"DPTR\",\"DPTR\",\"DPTR\",\"DPTR\"],\n",
       "\"eps\":[0.1,0.1,0.3,0.3,0.5,0.5,0.7,0.7,0.9,0.9,1.1,1.1,1.3,1.3,1.5,1.5,1.7,1.7,1.9,1.9,0.1,0.3,0.5,0.7,0.9,1.1,1.3,1.5,1.7,1.9],\n",
       "\"loss\":[0.49534,0.49521,0.49258,0.49407,0.49308,0.493,0.49511,0.49581,0.49465,0.49643,0.49502,0.49643,0.49621,0.49644,0.49662,0.49645,0.49663,0.49729,0.49656,0.49729,0.49551,0.48778,0.48575,0.48481,0.48428,0.48399,0.48385,0.48379,0.48377,0.48376]\n",
       "},\n",
       "\"mapping\":{\n",
       "\"x\":\"eps\",\n",
       "\"y\":\"loss\",\n",
       "\"color\":\"method\"\n",
       "},\n",
       "\"data_meta\":{\n",
       "},\n",
       "\"kind\":\"plot\",\n",
       "\"scales\":[],\n",
       "\"layers\":[{\n",
       "\"geom\":\"line\",\n",
       "\"mapping\":{\n",
       "},\n",
       "\"data_meta\":{\n",
       "},\n",
       "\"data\":{\n",
       "}\n",
       "},{\n",
       "\"geom\":\"point\",\n",
       "\"mapping\":{\n",
       "\"shape\":\"method\"\n",
       "},\n",
       "\"data_meta\":{\n",
       "},\n",
       "\"data\":{\n",
       "}\n",
       "}]\n",
       "};\n",
       "           var plotContainer = document.getElementById(\"EiMMur\");\n",
       "           window.letsPlotCall(function() {{\n",
       "               LetsPlot.buildPlotFromProcessedSpecs(plotSpec, -1, -1, plotContainer);\n",
       "           }});\n",
       "       })();    \n",
       "   </script>"
      ]
     },
     "metadata": {},
     "output_type": "display_data"
    }
   ],
   "source": [
    "plt_loss = plot_line_feature(df, \"loss\")\n",
    "plt_loss.show()"
   ]
  },
  {
   "cell_type": "code",
   "execution_count": 8,
   "id": "f7d45ec9-842b-409f-ad2e-d6a1fa247448",
   "metadata": {},
   "outputs": [
    {
     "data": {
      "text/html": [
       "   <div id=\"CCHNvW\"></div>\n",
       "   <script type=\"text/javascript\" data-lets-plot-script=\"plot\">\n",
       "       (function() {\n",
       "           var plotSpec={\n",
       "\"data\":{\n",
       "\"method\":[\"DPOPT-LS\",\"DPOPT\",\"DPOPT-LS\",\"DPOPT\",\"DPOPT-LS\",\"DPOPT\",\"DPOPT-LS\",\"DPOPT\",\"DPOPT-LS\",\"DPOPT\",\"DPOPT-LS\",\"DPOPT\",\"DPOPT-LS\",\"DPOPT\",\"DPOPT-LS\",\"DPOPT\",\"DPOPT-LS\",\"DPOPT\",\"DPOPT-LS\",\"DPOPT\",\"DPTR\",\"DPTR\",\"DPTR\",\"DPTR\",\"DPTR\",\"DPTR\",\"DPTR\",\"DPTR\",\"DPTR\",\"DPTR\"],\n",
       "\"eps\":[0.1,0.1,0.3,0.3,0.5,0.5,0.7,0.7,0.9,0.9,1.1,1.1,1.3,1.3,1.5,1.5,1.7,1.7,1.9,1.9,0.1,0.3,0.5,0.7,0.9,1.1,1.3,1.5,1.7,1.9],\n",
       "\"grad_norm\":[0.01147,0.00704,0.00526,0.00548,0.00508,0.00502,0.00594,0.00665,0.00577,0.00713,0.00588,0.00711,0.00662,0.00711,0.00712,0.00711,0.00716,0.0077,0.00724,0.00769,0.00758,0.00388,0.00262,0.00201,0.00161,0.0013,0.00106,9.0E-4,7.9E-4,7.2E-4]\n",
       "},\n",
       "\"mapping\":{\n",
       "\"x\":\"eps\",\n",
       "\"y\":\"grad_norm\",\n",
       "\"color\":\"method\"\n",
       "},\n",
       "\"data_meta\":{\n",
       "},\n",
       "\"kind\":\"plot\",\n",
       "\"scales\":[],\n",
       "\"layers\":[{\n",
       "\"geom\":\"line\",\n",
       "\"mapping\":{\n",
       "},\n",
       "\"data_meta\":{\n",
       "},\n",
       "\"data\":{\n",
       "}\n",
       "},{\n",
       "\"geom\":\"point\",\n",
       "\"mapping\":{\n",
       "\"shape\":\"method\"\n",
       "},\n",
       "\"data_meta\":{\n",
       "},\n",
       "\"data\":{\n",
       "}\n",
       "}]\n",
       "};\n",
       "           var plotContainer = document.getElementById(\"CCHNvW\");\n",
       "           window.letsPlotCall(function() {{\n",
       "               LetsPlot.buildPlotFromProcessedSpecs(plotSpec, -1, -1, plotContainer);\n",
       "           }});\n",
       "       })();    \n",
       "   </script>"
      ]
     },
     "metadata": {},
     "output_type": "display_data"
    }
   ],
   "source": [
    "plt_norm = plot_line_feature(df, \"grad_norm\")\n",
    "plt_norm.show()"
   ]
  },
  {
   "cell_type": "code",
   "execution_count": 9,
   "id": "1713b19b-7680-402f-91da-ca12c118c2e0",
   "metadata": {},
   "outputs": [
    {
     "data": {
      "text/html": [
       "   <div id=\"QYkn6U\"></div>\n",
       "   <script type=\"text/javascript\" data-lets-plot-script=\"plot\">\n",
       "       (function() {\n",
       "           var plotSpec={\n",
       "\"data\":{\n",
       "\"method\":[\"DPOPT-LS\",\"DPOPT\",\"DPOPT-LS\",\"DPOPT\",\"DPOPT-LS\",\"DPOPT\",\"DPOPT-LS\",\"DPOPT\",\"DPOPT-LS\",\"DPOPT\",\"DPOPT-LS\",\"DPOPT\",\"DPOPT-LS\",\"DPOPT\",\"DPOPT-LS\",\"DPOPT\",\"DPOPT-LS\",\"DPOPT\",\"DPOPT-LS\",\"DPOPT\",\"DPTR\",\"DPTR\",\"DPTR\",\"DPTR\",\"DPTR\",\"DPTR\",\"DPTR\",\"DPTR\",\"DPTR\",\"DPTR\"],\n",
       "\"eps\":[0.1,0.1,0.3,0.3,0.5,0.5,0.7,0.7,0.9,0.9,1.1,1.1,1.3,1.3,1.5,1.5,1.7,1.7,1.9,1.9,0.1,0.3,0.5,0.7,0.9,1.1,1.3,1.5,1.7,1.9],\n",
       "\"runtime\":[2.96946,1.50776,2.67391,1.42473,3.07195,1.73316,1.73037,1.34013,1.94741,1.2663,2.04016,1.18248,1.41052,1.20008,2.44643,1.2255,1.16621,2.68477,1.16743,1.20961,545.99102,475.39457,567.69504,646.44403,597.08509,547.54553,620.00569,638.73495,561.82628,608.74295]\n",
       "},\n",
       "\"mapping\":{\n",
       "\"x\":\"eps\",\n",
       "\"y\":\"runtime\",\n",
       "\"color\":\"method\"\n",
       "},\n",
       "\"data_meta\":{\n",
       "},\n",
       "\"kind\":\"plot\",\n",
       "\"scales\":[],\n",
       "\"layers\":[{\n",
       "\"geom\":\"line\",\n",
       "\"mapping\":{\n",
       "},\n",
       "\"data_meta\":{\n",
       "},\n",
       "\"data\":{\n",
       "}\n",
       "},{\n",
       "\"geom\":\"point\",\n",
       "\"mapping\":{\n",
       "\"shape\":\"method\"\n",
       "},\n",
       "\"data_meta\":{\n",
       "},\n",
       "\"data\":{\n",
       "}\n",
       "}]\n",
       "};\n",
       "           var plotContainer = document.getElementById(\"QYkn6U\");\n",
       "           window.letsPlotCall(function() {{\n",
       "               LetsPlot.buildPlotFromProcessedSpecs(plotSpec, -1, -1, plotContainer);\n",
       "           }});\n",
       "       })();    \n",
       "   </script>"
      ]
     },
     "metadata": {},
     "output_type": "display_data"
    }
   ],
   "source": [
    "plt_norm = plot_line_feature(df, \"runtime\")\n",
    "plt_norm.show()"
   ]
  },
  {
   "cell_type": "code",
   "execution_count": 10,
   "id": "58b9be4b-042c-44ba-b7f3-241b90ac4405",
   "metadata": {},
   "outputs": [
    {
     "data": {
      "text/html": [
       "   <div id=\"s1j9Ex\"></div>\n",
       "   <script type=\"text/javascript\" data-lets-plot-script=\"plot\">\n",
       "       (function() {\n",
       "           var plotSpec={\n",
       "\"data\":{\n",
       "\"method\":[\"DPOPT-LS\",\"DPOPT\",\"DPOPT-LS\",\"DPOPT\",\"DPOPT-LS\",\"DPOPT\",\"DPOPT-LS\",\"DPOPT\",\"DPOPT-LS\",\"DPOPT\",\"DPOPT-LS\",\"DPOPT\",\"DPOPT-LS\",\"DPOPT\",\"DPOPT-LS\",\"DPOPT\",\"DPOPT-LS\",\"DPOPT\",\"DPOPT-LS\",\"DPOPT\",\"DPTR\",\"DPTR\",\"DPTR\",\"DPTR\",\"DPTR\",\"DPTR\",\"DPTR\",\"DPTR\",\"DPTR\",\"DPTR\"],\n",
       "\"eps\":[0.1,0.1,0.3,0.3,0.5,0.5,0.7,0.7,0.9,0.9,1.1,1.1,1.3,1.3,1.5,1.5,1.7,1.7,1.9,1.9,0.1,0.3,0.5,0.7,0.9,1.1,1.3,1.5,1.7,1.9],\n",
       "\"num_iter\":[114.0,114.0,114.0,114.0,114.0,114.0,10.0,14.0,1.0,1.0,95.0,1.0,62.0,1.0,35.0,1.0,40.0,100.0,36.0,100.0,2999.0,2999.0,2999.0,2999.0,2999.0,2999.0,2999.0,2999.0,2999.0,2999.0]\n",
       "},\n",
       "\"mapping\":{\n",
       "\"x\":\"eps\",\n",
       "\"y\":\"num_iter\",\n",
       "\"color\":\"method\"\n",
       "},\n",
       "\"data_meta\":{\n",
       "},\n",
       "\"kind\":\"plot\",\n",
       "\"scales\":[],\n",
       "\"layers\":[{\n",
       "\"geom\":\"line\",\n",
       "\"mapping\":{\n",
       "},\n",
       "\"data_meta\":{\n",
       "},\n",
       "\"data\":{\n",
       "}\n",
       "},{\n",
       "\"geom\":\"point\",\n",
       "\"mapping\":{\n",
       "\"shape\":\"method\"\n",
       "},\n",
       "\"data_meta\":{\n",
       "},\n",
       "\"data\":{\n",
       "}\n",
       "}]\n",
       "};\n",
       "           var plotContainer = document.getElementById(\"s1j9Ex\");\n",
       "           window.letsPlotCall(function() {{\n",
       "               LetsPlot.buildPlotFromProcessedSpecs(plotSpec, -1, -1, plotContainer);\n",
       "           }});\n",
       "       })();    \n",
       "   </script>"
      ]
     },
     "metadata": {},
     "output_type": "display_data"
    }
   ],
   "source": [
    "plt_norm = plot_line_feature(df, \"num_iter\")\n",
    "plt_norm.show()"
   ]
  },
  {
   "cell_type": "code",
   "execution_count": 21,
   "id": "986c34d0-c06d-4eb6-b7e2-846498d9aabf",
   "metadata": {},
   "outputs": [
    {
     "name": "stdout",
     "output_type": "stream",
     "text": [
      "/mnt/home/cgao/workspace/dp-opt\n"
     ]
    }
   ],
   "source": [
    "cd .."
   ]
  },
  {
   "cell_type": "code",
   "execution_count": 22,
   "id": "14e28843-ed0f-4e76-aa4d-e0fcae1009c4",
   "metadata": {},
   "outputs": [
    {
     "data": {
      "text/plain": [
       "'/mnt/home/cgao/workspace/dp-opt/lets-plot-images/norm_plot-eps_g=0.0077_0715-112744.svg'"
      ]
     },
     "execution_count": 22,
     "metadata": {},
     "output_type": "execute_result"
    }
   ],
   "source": [
    "suffix = last_modified[last_modified.find('-'):-4]\n",
    "ggsave(plt_norm, f\"norm_plot{suffix}.svg\")"
   ]
  },
  {
   "cell_type": "code",
   "execution_count": null,
   "id": "b413652d-696e-473b-9f08-683f1853eb4e",
   "metadata": {},
   "outputs": [],
   "source": []
  }
 ],
 "metadata": {
  "kernelspec": {
   "display_name": "Python 3 (ipykernel)",
   "language": "python",
   "name": "python3"
  },
  "language_info": {
   "codemirror_mode": {
    "name": "ipython",
    "version": 3
   },
   "file_extension": ".py",
   "mimetype": "text/x-python",
   "name": "python",
   "nbconvert_exporter": "python",
   "pygments_lexer": "ipython3",
   "version": "3.10.5"
  },
  "vscode": {
   "interpreter": {
    "hash": "b7706491c173815ffbca0baa821dbd198848c0e5966f09c66062eccb4317fb4f"
   }
  }
 },
 "nbformat": 4,
 "nbformat_minor": 5
}
